{
  "nbformat": 4,
  "nbformat_minor": 0,
  "metadata": {
    "colab": {
      "provenance": [],
      "authorship_tag": "ABX9TyOfthPQQlufuWmI8t1cymIo",
      "include_colab_link": true
    },
    "kernelspec": {
      "name": "python3",
      "display_name": "Python 3"
    },
    "language_info": {
      "name": "python"
    }
  },
  "cells": [
    {
      "cell_type": "markdown",
      "metadata": {
        "id": "view-in-github",
        "colab_type": "text"
      },
      "source": [
        "<a href=\"https://colab.research.google.com/github/ssp1989/DTC/blob/main/SI_and_CI_Assignment(20_12_2022).ipynb\" target=\"_parent\"><img src=\"https://colab.research.google.com/assets/colab-badge.svg\" alt=\"Open In Colab\"/></a>"
      ]
    },
    {
      "cell_type": "code",
      "execution_count": 5,
      "metadata": {
        "colab": {
          "base_uri": "https://localhost:8080/"
        },
        "id": "ypJUPsVbX_p1",
        "outputId": "e199fabe-760a-46ab-8599-3fc39c810a66"
      },
      "outputs": [
        {
          "output_type": "stream",
          "name": "stdout",
          "text": [
            "SIMPLE INTEREST\n",
            "enter the prinicipal amount :20000\n",
            "enter the number of years :20\n",
            "enter the rate of interest :6\n",
            "simple interest : 24000.0\n"
          ]
        }
      ],
      "source": [
        "print('SIMPLE INTEREST')\n",
        "\n",
        "Principal = int(input('enter the prinicipal amount :'))\n",
        "\n",
        "years = int(input('enter the number of years :'))\n",
        "\n",
        "rate = float(input('enter the rate of interest :'))\n",
        "\n",
        "SI = (Principal * years * rate)/100\n",
        "\n",
        "print('simple interest :' , SI)"
      ]
    },
    {
      "cell_type": "code",
      "source": [
        "\n",
        " #  ** power of operator\n",
        "\n",
        "s = 7\n",
        "t = 2\n",
        "\n",
        "print(s ** t)"
      ],
      "metadata": {
        "colab": {
          "base_uri": "https://localhost:8080/"
        },
        "id": "ndV72I5Kb-w1",
        "outputId": "2384b874-b8d2-4968-858b-f507552f94e4"
      },
      "execution_count": 8,
      "outputs": [
        {
          "output_type": "stream",
          "name": "stdout",
          "text": [
            "49\n"
          ]
        }
      ]
    },
    {
      "cell_type": "code",
      "source": [
        "print('COMPOUND INTEREST')\n",
        "\n",
        "p = int(input('enter the principal amount :'))\n",
        "\n",
        "n = int(input('enter the number of years :'))\n",
        "\n",
        "r = float(input('enter the rate of interest :'))\n",
        "\n",
        "CI = p * ((1 + r/100) ** n)\n",
        "\n",
        "print('compoun interest :' , CI)"
      ],
      "metadata": {
        "id": "Ja4Qy4n-t4Xv"
      },
      "execution_count": null,
      "outputs": []
    },
    {
      "cell_type": "code",
      "source": [
        "a = list(('apple', 'banana', 'clementine'))\n",
        "\n",
        "a.append('orange')\n",
        "print(a)"
      ],
      "metadata": {
        "colab": {
          "base_uri": "https://localhost:8080/"
        },
        "id": "0yYAFKEdUCXa",
        "outputId": "439878fd-feae-4f39-9bc1-f9c0cb6541a4"
      },
      "execution_count": 5,
      "outputs": [
        {
          "output_type": "stream",
          "name": "stdout",
          "text": [
            "['apple', 'banana', 'clementine', 'orange']\n"
          ]
        }
      ]
    },
    {
      "cell_type": "code",
      "source": [],
      "metadata": {
        "id": "GQDXjA_yUD4w"
      },
      "execution_count": null,
      "outputs": []
    }
  ]
}